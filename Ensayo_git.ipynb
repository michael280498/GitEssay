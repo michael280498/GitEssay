{
 "cells": [
  {
   "cell_type": "markdown",
   "metadata": {},
   "source": [
    "# Ensayo Github\n",
    "\n",
    "Git hub es una herramienta para colección de ficheros y carpetas, sube los archivos de una carpeta y puede mantener control de versiones o subidas, así como back ups de una subida y otra mas reciente o menos reciente.\n",
    "Nos ayuda mucho en los proyectos de desarrollo de software para tener control de versiones, así como mantener frescos el proyecto con los últimos cambios hechos.\n",
    "Podemos colaborar con mas personas en el mismo proyecto y en ves de copiar y pegar los cambios en la carpeta raíz de cada uno de los colaboradores simplemente podemos subir el proyecto y hacer commit o push.\n",
    "\n",
    "\n",
    "## MODELO DE DATOS DE GIT\n",
    "\n",
    "Git tiene un modelo bien pensado que permite todas las características del control de versiones, como mantener el historial, respaldar branches y permitir la colaboración.\n",
    "##### Snapshots\n",
    "es el estado de algo en un especifico tiempo\n",
    "##### referencias\n",
    "Son punteros a los commits\n",
    "##### Repositorios\n",
    "Son los datos, objetos y referencias\n",
    "\n",
    "\n",
    "\n"
   ]
  },
  {
   "cell_type": "markdown",
   "metadata": {},
   "source": [
    "## Lineas de Comandos de Git\n",
    "\n",
    "##### Basicos\n",
    "\n",
    "\n",
    "    git help <command>: pedir ayuda de un comando git\n",
    "    git init: crea un nuevo repositorio de git, con datos almacenados en el directorio .git\n",
    "    git status: Te dice el estado de lo que esta pasando\n",
    "    git add <filename>: Agrega un archivo al repositorio\n",
    "    git commit: Crea un nuevo commit, sube los cambios echos en mi ambiente de trabajo o brancehs mios o remotos.\n",
    "    git log: shows a flattened log of history\n",
    "    git log --all --graph --decorate: visualizes history as a DAG\n",
    "    git diff <filename>: Muestra las diferencias desde el ultimo commit\n",
    "    git diff <revision> <filename>: muestra diferencias en un archivo entre snapshots\n",
    "    git checkout <revision>: actualiza el HEAD y el actual branch\n",
    "    \n",
    "##### Branching and merging\n",
    "\n",
    "    \n",
    "    git branch: muestra branches\n",
    "    git branch <name>: crea un branch\n",
    "    git checkout -b <name>: crea un branch y cambia a el mismo git branch <name>; git checkout <name>\n",
    "    git merge <revision>: fusciona branch origin/master\n",
    "    git mergetool: una herramienta sofisticada para ayudar a resolver conflictos de  merge\n",
    "    git rebase: volver a crear un conjunto de parches en una nueva base\n",
    "    \n",
    "    \n",
    "##### Remotes\n",
    "\n",
    "    git remote: lista remotes\n",
    "    git remote add <name> <url>: agrega un remote\n",
    "    git push <remote> <local branch>:<remote branch>: envia los objetos archivos al directorio remoto, y actualiza referencia del remoto\n",
    "    git branch --set-upstream-to=<remote>/<remote branch>: establecer correspondencia entre branch local y remota\n",
    "    git fetch: recuperar objetos / referencias desde el remoto\n",
    "    git pull: mismo que git fetch + git merge\n",
    "    git clone: descarga repositorio desde el remoto\n",
    "\n",
    "\n",
    "\n",
    "\n",
    "\n"
   ]
  },
  {
   "cell_type": "code",
   "execution_count": null,
   "metadata": {},
   "outputs": [],
   "source": []
  }
 ],
 "metadata": {
  "kernelspec": {
   "display_name": "Python 3",
   "language": "python",
   "name": "python3"
  },
  "language_info": {
   "codemirror_mode": {
    "name": "ipython",
    "version": 3
   },
   "file_extension": ".py",
   "mimetype": "text/x-python",
   "name": "python",
   "nbconvert_exporter": "python",
   "pygments_lexer": "ipython3",
   "version": "3.7.6"
  }
 },
 "nbformat": 4,
 "nbformat_minor": 2
}
